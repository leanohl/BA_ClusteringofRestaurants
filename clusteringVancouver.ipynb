{
 "cells": [
  {
   "cell_type": "code",
   "execution_count": 42,
   "metadata": {
    "collapsed": true,
    "pycharm": {
     "name": "#%%\n"
    }
   },
   "outputs": [
    {
     "data": {
      "text/plain": "                                                  ID            Variable  \\\n0  1, Total - Age groups and average age of the p...                 NaN   \n1                                                  2       0 to 14 years   \n2                                                  3        0 to 4 years   \n3                                                  4        5 to 9 years   \n4                                                  5      10 to 14 years   \n\n   Arbutus-Ridge   Downtown   Dunbar-Southlands   Fairview   \\\n0             NaN        NaN                 NaN        NaN   \n1          2015.0     4000.0              3545.0     2580.0   \n2           455.0     2080.0               675.0     1240.0   \n3           685.0     1105.0              1225.0      760.0   \n4           880.0      810.0              1650.0      580.0   \n\n   Grandview-Woodland   Hastings-Sunrise   Kensington-Cedar Cottage   \\\n0                  NaN                NaN                        NaN   \n1               3210.0             4595.0                     7060.0   \n2               1320.0             1510.0                     2515.0   \n3               1025.0             1560.0                     2390.0   \n4                865.0             1525.0                     2160.0   \n\n   Kerrisdale   ...  Riley Park   Shaughnessy   South Cambie   Strathcona   \\\n0          NaN  ...          NaN           NaN            NaN          NaN   \n1       1880.0  ...       3415.0        1175.0         1105.0       1065.0   \n2        430.0  ...       1175.0         270.0          360.0        360.0   \n3        600.0  ...       1160.0         405.0          365.0        365.0   \n4        845.0  ...       1080.0         500.0          375.0        340.0   \n\n   Sunset   Victoria-Fraserview  West End   West Point Grey   Vancouver CSD   \\\n0      NaN                  NaN        NaN               NaN             NaN   \n1   5460.0               3790.0     1945.0            1900.0         70530.0   \n2   1695.0               1175.0      965.0             420.0         24615.0   \n3   1780.0               1210.0      560.0             670.0         22905.0   \n4   1985.0               1410.0      415.0             810.0         23010.0   \n\n   Vancouver CMA   \n0             NaN  \n1        362110.0  \n2        116270.0  \n3        122730.0  \n4        123110.0  \n\n[5 rows x 26 columns]",
      "text/html": "<div>\n<style scoped>\n    .dataframe tbody tr th:only-of-type {\n        vertical-align: middle;\n    }\n\n    .dataframe tbody tr th {\n        vertical-align: top;\n    }\n\n    .dataframe thead th {\n        text-align: right;\n    }\n</style>\n<table border=\"1\" class=\"dataframe\">\n  <thead>\n    <tr style=\"text-align: right;\">\n      <th></th>\n      <th>ID</th>\n      <th>Variable</th>\n      <th>Arbutus-Ridge</th>\n      <th>Downtown</th>\n      <th>Dunbar-Southlands</th>\n      <th>Fairview</th>\n      <th>Grandview-Woodland</th>\n      <th>Hastings-Sunrise</th>\n      <th>Kensington-Cedar Cottage</th>\n      <th>Kerrisdale</th>\n      <th>...</th>\n      <th>Riley Park</th>\n      <th>Shaughnessy</th>\n      <th>South Cambie</th>\n      <th>Strathcona</th>\n      <th>Sunset</th>\n      <th>Victoria-Fraserview</th>\n      <th>West End</th>\n      <th>West Point Grey</th>\n      <th>Vancouver CSD</th>\n      <th>Vancouver CMA</th>\n    </tr>\n  </thead>\n  <tbody>\n    <tr>\n      <th>0</th>\n      <td>1, Total - Age groups and average age of the p...</td>\n      <td>NaN</td>\n      <td>NaN</td>\n      <td>NaN</td>\n      <td>NaN</td>\n      <td>NaN</td>\n      <td>NaN</td>\n      <td>NaN</td>\n      <td>NaN</td>\n      <td>NaN</td>\n      <td>...</td>\n      <td>NaN</td>\n      <td>NaN</td>\n      <td>NaN</td>\n      <td>NaN</td>\n      <td>NaN</td>\n      <td>NaN</td>\n      <td>NaN</td>\n      <td>NaN</td>\n      <td>NaN</td>\n      <td>NaN</td>\n    </tr>\n    <tr>\n      <th>1</th>\n      <td>2</td>\n      <td>0 to 14 years</td>\n      <td>2015.0</td>\n      <td>4000.0</td>\n      <td>3545.0</td>\n      <td>2580.0</td>\n      <td>3210.0</td>\n      <td>4595.0</td>\n      <td>7060.0</td>\n      <td>1880.0</td>\n      <td>...</td>\n      <td>3415.0</td>\n      <td>1175.0</td>\n      <td>1105.0</td>\n      <td>1065.0</td>\n      <td>5460.0</td>\n      <td>3790.0</td>\n      <td>1945.0</td>\n      <td>1900.0</td>\n      <td>70530.0</td>\n      <td>362110.0</td>\n    </tr>\n    <tr>\n      <th>2</th>\n      <td>3</td>\n      <td>0 to 4 years</td>\n      <td>455.0</td>\n      <td>2080.0</td>\n      <td>675.0</td>\n      <td>1240.0</td>\n      <td>1320.0</td>\n      <td>1510.0</td>\n      <td>2515.0</td>\n      <td>430.0</td>\n      <td>...</td>\n      <td>1175.0</td>\n      <td>270.0</td>\n      <td>360.0</td>\n      <td>360.0</td>\n      <td>1695.0</td>\n      <td>1175.0</td>\n      <td>965.0</td>\n      <td>420.0</td>\n      <td>24615.0</td>\n      <td>116270.0</td>\n    </tr>\n    <tr>\n      <th>3</th>\n      <td>4</td>\n      <td>5 to 9 years</td>\n      <td>685.0</td>\n      <td>1105.0</td>\n      <td>1225.0</td>\n      <td>760.0</td>\n      <td>1025.0</td>\n      <td>1560.0</td>\n      <td>2390.0</td>\n      <td>600.0</td>\n      <td>...</td>\n      <td>1160.0</td>\n      <td>405.0</td>\n      <td>365.0</td>\n      <td>365.0</td>\n      <td>1780.0</td>\n      <td>1210.0</td>\n      <td>560.0</td>\n      <td>670.0</td>\n      <td>22905.0</td>\n      <td>122730.0</td>\n    </tr>\n    <tr>\n      <th>4</th>\n      <td>5</td>\n      <td>10 to 14 years</td>\n      <td>880.0</td>\n      <td>810.0</td>\n      <td>1650.0</td>\n      <td>580.0</td>\n      <td>865.0</td>\n      <td>1525.0</td>\n      <td>2160.0</td>\n      <td>845.0</td>\n      <td>...</td>\n      <td>1080.0</td>\n      <td>500.0</td>\n      <td>375.0</td>\n      <td>340.0</td>\n      <td>1985.0</td>\n      <td>1410.0</td>\n      <td>415.0</td>\n      <td>810.0</td>\n      <td>23010.0</td>\n      <td>123110.0</td>\n    </tr>\n  </tbody>\n</table>\n<p>5 rows × 26 columns</p>\n</div>"
     },
     "execution_count": 42,
     "metadata": {},
     "output_type": "execute_result"
    }
   ],
   "source": [
    "# Clustering for Vancouver\n",
    "\n",
    "import pandas as pd\n",
    "import numpy as np\n",
    "\n",
    "# load total population of each Vancouver neighbourhood\n",
    "pop_path = pd.read_csv('CensusLocalAreaProfiles2016.csv' , encoding='latin' )\n",
    "df_pop = pd.DataFrame(pop_path)\n",
    "df_pop.head()\n"
   ]
  },
  {
   "cell_type": "code",
   "execution_count": 43,
   "outputs": [
    {
     "data": {
      "text/plain": "                      Name of Restaurent     Type of Cusine           Cost  \\\n0                      Las Tortas Mexican        Restaurant            NaN   \n1                        The Story Cafe -        Restaurant            NaN   \n2                          Miku Vancouver             Sushi      Expensive   \n3                         Blue Water Cafe           Seafood  Too Expensive   \n4                      Chambar Restaurant        Restaurant      Expensive   \n..                                    ...               ...            ...   \n379  Shangri-La Hotel Vancouver Drive way  No reviews Hotel            NaN   \n380            Hilton Vancouver Metrotown             Hotel            NaN   \n381       Vancouver International Airport           Airport            NaN   \n382      Radisson Hotel Vancouver Airport             Hotel            NaN   \n383        Sequoia Company of Restaurants  Corporate office            NaN   \n\n                  Landmark                             Location and Address  \n0       3353 Cambie Street                                              NaN  \n1       2800 Sexsmith Road                                              NaN  \n2                      NaN  200 Granville St # 70 ú In the Granville Square  \n3                      NaN              1095 Hamilton St ú In Urban Systems  \n4                      NaN                                    568 Beatty St  \n..                     ...                                              ...  \n379  Vancouver, BC, Canada                                              NaN  \n380    Burnaby, BC, Canada                                              NaN  \n381   Richmond, BC, Canada                                              NaN  \n382   Richmond, BC, Canada                                              NaN  \n383  Vancouver, BC, Canada                                              NaN  \n\n[384 rows x 5 columns]",
      "text/html": "<div>\n<style scoped>\n    .dataframe tbody tr th:only-of-type {\n        vertical-align: middle;\n    }\n\n    .dataframe tbody tr th {\n        vertical-align: top;\n    }\n\n    .dataframe thead th {\n        text-align: right;\n    }\n</style>\n<table border=\"1\" class=\"dataframe\">\n  <thead>\n    <tr style=\"text-align: right;\">\n      <th></th>\n      <th>Name of Restaurent</th>\n      <th>Type of Cusine</th>\n      <th>Cost</th>\n      <th>Landmark</th>\n      <th>Location and Address</th>\n    </tr>\n  </thead>\n  <tbody>\n    <tr>\n      <th>0</th>\n      <td>Las Tortas Mexican</td>\n      <td>Restaurant</td>\n      <td>NaN</td>\n      <td>3353 Cambie Street</td>\n      <td>NaN</td>\n    </tr>\n    <tr>\n      <th>1</th>\n      <td>The Story Cafe -</td>\n      <td>Restaurant</td>\n      <td>NaN</td>\n      <td>2800 Sexsmith Road</td>\n      <td>NaN</td>\n    </tr>\n    <tr>\n      <th>2</th>\n      <td>Miku Vancouver</td>\n      <td>Sushi</td>\n      <td>Expensive</td>\n      <td>NaN</td>\n      <td>200 Granville St # 70 ú In the Granville Square</td>\n    </tr>\n    <tr>\n      <th>3</th>\n      <td>Blue Water Cafe</td>\n      <td>Seafood</td>\n      <td>Too Expensive</td>\n      <td>NaN</td>\n      <td>1095 Hamilton St ú In Urban Systems</td>\n    </tr>\n    <tr>\n      <th>4</th>\n      <td>Chambar Restaurant</td>\n      <td>Restaurant</td>\n      <td>Expensive</td>\n      <td>NaN</td>\n      <td>568 Beatty St</td>\n    </tr>\n    <tr>\n      <th>...</th>\n      <td>...</td>\n      <td>...</td>\n      <td>...</td>\n      <td>...</td>\n      <td>...</td>\n    </tr>\n    <tr>\n      <th>379</th>\n      <td>Shangri-La Hotel Vancouver Drive way</td>\n      <td>No reviews Hotel</td>\n      <td>NaN</td>\n      <td>Vancouver, BC, Canada</td>\n      <td>NaN</td>\n    </tr>\n    <tr>\n      <th>380</th>\n      <td>Hilton Vancouver Metrotown</td>\n      <td>Hotel</td>\n      <td>NaN</td>\n      <td>Burnaby, BC, Canada</td>\n      <td>NaN</td>\n    </tr>\n    <tr>\n      <th>381</th>\n      <td>Vancouver International Airport</td>\n      <td>Airport</td>\n      <td>NaN</td>\n      <td>Richmond, BC, Canada</td>\n      <td>NaN</td>\n    </tr>\n    <tr>\n      <th>382</th>\n      <td>Radisson Hotel Vancouver Airport</td>\n      <td>Hotel</td>\n      <td>NaN</td>\n      <td>Richmond, BC, Canada</td>\n      <td>NaN</td>\n    </tr>\n    <tr>\n      <th>383</th>\n      <td>Sequoia Company of Restaurants</td>\n      <td>Corporate office</td>\n      <td>NaN</td>\n      <td>Vancouver, BC, Canada</td>\n      <td>NaN</td>\n    </tr>\n  </tbody>\n</table>\n<p>384 rows × 5 columns</p>\n</div>"
     },
     "execution_count": 43,
     "metadata": {},
     "output_type": "execute_result"
    }
   ],
   "source": [
    "# load population of Vancouver neighbourhoods\n",
    "rest_path = pd.read_csv('Vancouver_restaurant_data.csv', encoding=\"latin\")\n",
    "df_rest = pd.DataFrame(rest_path)\n",
    "df_rest.drop(['Rating.1'], axis=1, inplace=True)\n",
    "df_rest.drop(['number-of-reviews'], axis=1, inplace=True)\n",
    "df_rest.drop(['veg /Non- Veg'], axis=1, inplace=True)\n",
    "df_rest.drop(['Rating'], axis=1, inplace=True)\n",
    "df_rest.drop(['Total No of Ratings'], axis=1, inplace=True)\n",
    "df_rest.drop(['Current Status'], axis=1, inplace=True)\n",
    "df_rest.drop(['Opening time'], axis=1, inplace=True)\n",
    "df_rest.drop(['Dine in availability'], axis=1, inplace=True)\n",
    "df_rest.drop(['Takeaway type'], axis=1, inplace=True)\n",
    "df_rest.drop(['Delivery availability'], axis=1, inplace=True)\n",
    "df_rest.drop(['Description of the Restaurent'], axis=1, inplace=True)\n",
    "df_rest.drop(['Restaurent Name'], axis=1, inplace=True)\n",
    "df_rest\n"
   ],
   "metadata": {
    "collapsed": false,
    "pycharm": {
     "name": "#%%\n"
    }
   }
  },
  {
   "cell_type": "code",
   "execution_count": 44,
   "outputs": [
    {
     "name": "stdout",
     "output_type": "stream",
     "text": [
      "['3353 Cambie Street' '2800 Sexsmith Road' nan nan nan nan nan nan\n",
      " '1038 Canada Pl ú In the Fairmont Pacific Rim' nan nan nan nan nan nan\n",
      " nan nan nan nan nan nan nan nan nan nan nan nan nan nan nan nan nan nan\n",
      " nan nan nan nan 'Vancouver, BC, Canada ú In Harbour Centre' nan nan nan\n",
      " nan 'Vancouver, BC, Canada' nan nan nan nan nan nan nan nan nan nan nan\n",
      " nan nan nan nan nan nan nan nan nan nan nan nan nan nan nan nan nan nan\n",
      " nan nan nan nan nan nan nan nan nan nan nan nan nan nan nan nan nan nan\n",
      " nan nan nan nan nan 'Vancouver, BC, Canada' nan nan nan nan nan nan nan\n",
      " nan nan nan nan nan nan nan nan nan nan nan\n",
      " 'Vancouver, BC, Canada ú In the Fairmont Pacific Rim' nan nan nan nan nan\n",
      " nan nan nan nan nan nan nan nan nan nan nan nan nan nan nan nan nan nan\n",
      " nan nan nan nan nan nan nan nan '646 Kingsway' nan nan\n",
      " '545 Granville St ú In the Pacific Centre' '51 W Hastings St' nan nan nan\n",
      " nan nan nan nan nan nan nan nan\n",
      " 'Vancouver, BC, Canada ú In International Village Mall' nan nan nan nan\n",
      " 'Vancouver, BC, Canada ú Near the Vancouver Art Gallery' nan\n",
      " 'Vancouver, BC, Canada' nan nan nan\n",
      " 'Vancouver, BC, Canada ú In Century Plaza Hotel Vancouver' nan nan nan\n",
      " nan nan nan nan nan nan nan nan '1130 Mainland St' nan '698 Seymour St'\n",
      " nan nan nan nan nan nan '1002 Seymour St' nan nan nan\n",
      " '840 Howe St ú In Robson Court' nan '4242 Main St' nan nan nan nan nan\n",
      " nan nan nan '1000 Burrard St' 'Holt Renfrew Vancouver, 737 Dunsmuir St'\n",
      " nan nan '1050 Alberni St #2nd' nan nan nan nan nan nan '955 Helmcken St'\n",
      " nan nan nan nan nan nan 'Vancouver, BC, Canada' 'Vancouver, BC, Canada'\n",
      " nan nan nan nan nan nan nan 'Vancouver, BC, Canada'\n",
      " 'Vancouver, BC, Canada' 'Vancouver, BC, Canada' nan\n",
      " 'Vancouver, BC, Canada' nan nan nan 'Vancouver, BC, Canada' nan\n",
      " 'Vancouver, BC, Canada' nan 'vancouver, BC, Canada' nan nan nan\n",
      " 'Vancouver, BC, Canada' nan 'Vancouver, BC, Canada' nan nan\n",
      " 'Vancouver, BC, Canada' 'Vancouver, BC, Canada' nan nan nan nan nan nan\n",
      " nan nan nan nan 'Robson and, Hornby St' nan '900 W Georgia St' nan\n",
      " '602 Seymour St' nan nan '1110 Howe St' nan '530 Hornby St'\n",
      " '701 W Georgia St' nan '1038 Canada Pl' nan 'Vancouver, BC, Canada' nan\n",
      " 'Vancouver, BC, Canada' nan 'Vancouver, BC, Canada'\n",
      " 'Vancouver, BC, Canada' 'Vancouver, BC, Canada' nan nan nan nan\n",
      " 'Vancouver, BC, Canada' nan 'Vancouver, BC, Canada' nan nan nan nan nan\n",
      " nan nan nan nan nan 'Vancouver, BC, Canada' 'vancouver, BC, Canada' nan\n",
      " nan nan nan nan nan nan 'West Vancouver, BC, Canada' nan\n",
      " 'Vancouver, BC, Canada' 'Vancouver, BC, Canada' 'Vancouver, BC, Canada'\n",
      " nan nan nan nan nan nan nan 'Vancouver, BC, Canada'\n",
      " 'Vancouver, BC, Canada' 'Vancouver, BC, Canada' 'Richmond, BC, Canada'\n",
      " 'Vancouver, BC, Canada' 'Vancouver, BC, Canada' 'Vancouver, BC, Canada'\n",
      " nan nan nan 'Vancouver, BC, Canada' nan 'Vancouver, BC, Canada' nan nan\n",
      " nan nan 'Vancouver, BC, Canada' 'Vancouver, BC, Canada' nan nan nan\n",
      " 'Vancouver, BC, Canada' nan 'Vancouver, BC, Canada' nan\n",
      " 'Vancouver, BC, Canada' nan 'Vancouver, BC, Canada'\n",
      " 'Vancouver, BC, Canada' 'Vancouver, BC, Canada' 'Burnaby, BC, Canada'\n",
      " 'Vancouver, BC, Canada' 'Vancouver, BC, Canada' 'Vancouver, BC, Canada'\n",
      " 'North Vancouver, BC, Canada' 'West Vancouver, BC, Canada'\n",
      " 'Vancouver, BC, Canada' 'Vancouver, BC, Canada' 'Vancouver, BC, Canada'\n",
      " nan nan 'Vancouver, BC, Canada' 'Vancouver, BC, Canada'\n",
      " 'Vancouver, BC, Canada' 'Vancouver, BC, Canada' 'Vancouver, BC, Canada'\n",
      " 'Vancouver, BC, Canada' 'Vancouver, BC, Canada' nan\n",
      " 'Richmond, BC, Canada' 'Vancouver, BC, Canada' 'Burnaby, BC, Canada'\n",
      " 'Richmond, BC, Canada' 'Richmond, BC, Canada' 'Vancouver, BC, Canada']\n"
     ]
    }
   ],
   "source": [
    "print(df_rest.Landmark.values)"
   ],
   "metadata": {
    "collapsed": false,
    "pycharm": {
     "name": "#%%\n"
    }
   }
  },
  {
   "cell_type": "markdown",
   "source": [],
   "metadata": {
    "collapsed": false,
    "pycharm": {
     "name": "#%% md\n"
    }
   }
  },
  {
   "cell_type": "code",
   "execution_count": 49,
   "outputs": [
    {
     "name": "stdout",
     "output_type": "stream",
     "text": [
      "  Name of Restaurent  Type of Cusine           Cost  \\\n",
      "0  Las Tortas Mexican     Restaurant            NaN   \n",
      "1    The Story Cafe -     Restaurant            NaN   \n",
      "2      Miku Vancouver          Sushi      Expensive   \n",
      "3     Blue Water Cafe        Seafood  Too Expensive   \n",
      "4  Chambar Restaurant     Restaurant      Expensive   \n",
      "\n",
      "                                             Place  \n",
      "0                               3353 Cambie Street  \n",
      "1                               2800 Sexsmith Road  \n",
      "2  200 Granville St # 70 ú In the Granville Square  \n",
      "3              1095 Hamilton St ú In Urban Systems  \n",
      "4                                    568 Beatty St  \n"
     ]
    }
   ],
   "source": [
    "values = {\"Landmark\": '', \"Location and Address\": ''}\n",
    "df_rest = df_rest.fillna(value = values)\n",
    "\n",
    "df_rest['Place'] = df_rest['Landmark'] + df_rest['Location and Address']\n",
    "df_rest.drop(['Landmark'], axis=1, inplace=True)\n",
    "df_rest.drop(['Location and Address'], axis=1, inplace=True)\n",
    "print(df_rest.head())\n"
   ],
   "metadata": {
    "collapsed": false,
    "pycharm": {
     "name": "#%%\n"
    }
   }
  },
  {
   "cell_type": "code",
   "execution_count": null,
   "outputs": [],
   "source": [],
   "metadata": {
    "collapsed": false,
    "pycharm": {
     "name": "#%%\n"
    }
   }
  }
 ],
 "metadata": {
  "kernelspec": {
   "display_name": "Python 3",
   "language": "python",
   "name": "python3"
  },
  "language_info": {
   "codemirror_mode": {
    "name": "ipython",
    "version": 2
   },
   "file_extension": ".py",
   "mimetype": "text/x-python",
   "name": "python",
   "nbconvert_exporter": "python",
   "pygments_lexer": "ipython2",
   "version": "2.7.6"
  }
 },
 "nbformat": 4,
 "nbformat_minor": 0
}