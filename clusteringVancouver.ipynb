{
 "cells": [
  {
   "cell_type": "code",
   "execution_count": null,
   "outputs": [],
   "source": [
    "!pip install geopy\n",
    "!pip install yellowbrick\n",
    "!pip install matplotlip"
   ],
   "metadata": {
    "collapsed": false,
    "pycharm": {
     "name": "#%%\n",
     "is_executing": true
    }
   }
  },
  {
   "cell_type": "markdown",
   "source": [
    "# Clustering for Vancouver"
   ],
   "metadata": {
    "collapsed": false,
    "pycharm": {
     "name": "#%% md\n"
    }
   }
  },
  {
   "cell_type": "markdown",
   "source": [],
   "metadata": {
    "collapsed": false,
    "pycharm": {
     "name": "#%% md\n"
    }
   }
  },
  {
   "cell_type": "code",
   "execution_count": null,
   "outputs": [],
   "source": [
    "import pandas as pd\n",
    "import re\n",
    "from geopy.geocoders import Nominatim\n",
    "from geopy.extra.rate_limiter import RateLimiter"
   ],
   "metadata": {
    "collapsed": false,
    "pycharm": {
     "name": "#%%\n",
     "is_executing": true
    }
   }
  },
  {
   "cell_type": "markdown",
   "source": [
    "# Data import\n",
    "## load total income of each Vancouver neighbourhood"
   ],
   "metadata": {
    "collapsed": false,
    "pycharm": {
     "name": "#%% md\n"
    }
   }
  },
  {
   "cell_type": "code",
   "execution_count": null,
   "outputs": [],
   "source": [
    "\n",
    "income_path = pd.read_csv('dataset_Vancouver/income_Vancouver1.csv', index_col= 'Total income')\n",
    "df_income = pd.DataFrame(income_path)\n",
    "df_income.loc['Total',:]= df_income.sum(axis=0)\n",
    "df_income.head()"
   ],
   "metadata": {
    "collapsed": false,
    "pycharm": {
     "name": "#%%\n",
     "is_executing": true
    }
   }
  },
  {
   "cell_type": "code",
   "execution_count": null,
   "outputs": [],
   "source": [
    "df_income = df_income.drop([\"$100.000 and over\"], axis = 0) # drop this row because it contains duplicate information"
   ],
   "metadata": {
    "collapsed": false,
    "pycharm": {
     "name": "#%%\n",
     "is_executing": true
    }
   }
  },
  {
   "cell_type": "code",
   "execution_count": null,
   "outputs": [],
   "source": [
    "# add a coloumn with the average income\n",
    "lst =[]\n",
    "for i in range(10):\n",
    "    lst.append(10000*i+5000)\n",
    "lst.append(125000)\n",
    "lst.append(250000)\n",
    "lst.append(sum(lst)/len(lst))\n",
    "df_income.insert(0,'average income', lst)\n",
    "df_income"
   ],
   "metadata": {
    "collapsed": false,
    "pycharm": {
     "name": "#%%\n",
     "is_executing": true
    }
   }
  },
  {
   "cell_type": "code",
   "execution_count": null,
   "outputs": [],
   "source": [
    "# calculate the weighted average income\n",
    "for element in range(len(df_income.columns.values)):\n",
    "    if element != 0:\n",
    "        for column in range(len(df_income.iloc[:,element])):\n",
    "            average = df_income.iloc[column,0]\n",
    "            total = df_income.iloc[12,element]\n",
    "            actual_value = df_income.iloc[column,element]\n",
    "            value = average*actual_value/total\n",
    "            df_income.iloc[column,element] = value\n",
    "df_income = df_income.drop('Total', axis=0)\n",
    "df_income.loc['weighted income average',:]= df_income.sum(axis=0)\n",
    "df_income = df_income.drop(df_income.index[0:12], axis=0)\n",
    "df_income = df_income.drop(\"average income\", axis=1)\n",
    "df_income"
   ],
   "metadata": {
    "collapsed": false,
    "pycharm": {
     "name": "#%%\n",
     "is_executing": true
    }
   }
  },
  {
   "cell_type": "markdown",
   "source": [
    "## load citizenship dataset of Vancouver"
   ],
   "metadata": {
    "collapsed": false,
    "pycharm": {
     "name": "#%% md\n"
    }
   }
  },
  {
   "cell_type": "code",
   "execution_count": null,
   "outputs": [],
   "source": [
    "\n",
    "citizen_path = pd.read_csv('dataset_Vancouver/citizenship_Vancouver1.csv'  )\n",
    "df_citizen = pd.DataFrame(citizen_path)\n",
    "df_citizen"
   ],
   "metadata": {
    "collapsed": false,
    "pycharm": {
     "name": "#%%\n",
     "is_executing": true
    }
   }
  },
  {
   "cell_type": "markdown",
   "source": [
    "# Preprocessing"
   ],
   "metadata": {
    "collapsed": false,
    "pycharm": {
     "name": "#%% md\n"
    }
   }
  },
  {
   "cell_type": "code",
   "execution_count": null,
   "outputs": [],
   "source": [
    "df_citizen.drop(['ID'], axis=1, inplace=True)\n",
    "# get the transposed dataset\n",
    "df_citizen = df_citizen.transpose()\n",
    "df_citizen.columns = df_citizen.iloc[0]\n",
    "#remove first row from DataFrame\n",
    "df_citizen = df_citizen[1:]\n",
    "df_citizen"
   ],
   "metadata": {
    "collapsed": false,
    "pycharm": {
     "name": "#%%\n",
     "is_executing": true
    }
   }
  },
  {
   "cell_type": "code",
   "execution_count": null,
   "outputs": [],
   "source": [
    "# put together places of birth of South-east- Asians, Japanese, Europeans, Western, ..\n",
    "df_citizen['Total Population'] = df_citizen.iloc[:,0]+df_citizen.iloc[:,12]+df_citizen.iloc[:,30]+df_citizen.iloc[:,40]++df_citizen.iloc[:,59]\n",
    "\n",
    "'''df_citizen['Percentage of Canadians'] = (df_citizen.iloc[:,59] / df_citizen['Total Population']) * 100\n",
    "df_citizen['Percentage of Latin-Americans'] = (df_citizen.iloc[:,1:9].sum(axis=1)+df_citizen.iloc[:,11] )/ df_citizen['Total Population'] * 100\n",
    "df_citizen['Percentage of Europeans'] = (df_citizen.iloc[:,12] / df_citizen['Total Population']) * 100\n",
    "df_citizen['Percentage of US-Americans'] = (df_citizen.iloc[:,10] / df_citizen['Total Population']) * 100\n",
    "'''\n",
    "# Western citizens contain Canadians+ US-Americans + Europeans\n",
    "df_citizen['Percentage of Western'] = ((df_citizen.iloc[:,10] +df_citizen.iloc[:,59]+df_citizen.iloc[:,10]) / df_citizen['Total Population']) * 100\n",
    "df_citizen['Percentage of Asians'] = (df_citizen.iloc[:,40] / df_citizen['Total Population']) * 100\n",
    "df_citizen['Percentage of Japanese'] = (df_citizen.iloc[:,48]/ df_citizen['Total Population']) * 100\n",
    "df_citizen['Percentage of Chinese'] = (df_citizen.iloc[:,43]/ df_citizen['Total Population']) * 100\n",
    "df_citizen['Percentage of South-East-Asians'] = ((df_citizen.iloc[:,56]+df_citizen.iloc[:,52]) / df_citizen['Total Population']) * 100\n",
    "\n",
    "df_citizen.drop(df_citizen.iloc[:,0:60], axis=1, inplace=True)\n",
    "df_citizen.head()"
   ],
   "metadata": {
    "collapsed": false,
    "pycharm": {
     "name": "#%%\n",
     "is_executing": true
    }
   }
  },
  {
   "cell_type": "code",
   "execution_count": null,
   "outputs": [],
   "source": [
    "df_citizen = df_citizen.transpose()\n",
    "df_citizen"
   ],
   "metadata": {
    "collapsed": false,
    "pycharm": {
     "name": "#%%\n",
     "is_executing": true
    }
   }
  },
  {
   "cell_type": "code",
   "execution_count": null,
   "outputs": [],
   "source": [
    "df_new = pd.concat([df_citizen,df_income])\n",
    "df_new = df_new.transpose()\n",
    "lst = list(df_new.index)\n",
    "for element in lst:\n",
    "    df_new.loc[element, 'Neighbourhood'] = element + ',Vancouver,BC,Canada'\n",
    "df_new = df_new.drop(df_new.index[23])\n",
    "df_new = df_new.drop(df_new.index[22])\n",
    "df_new"
   ],
   "metadata": {
    "collapsed": false,
    "pycharm": {
     "name": "#%%\n",
     "is_executing": true
    }
   }
  },
  {
   "cell_type": "code",
   "execution_count": null,
   "outputs": [],
   "source": [
    "'''\n",
    " Geopy provides a class for popular mapping services. Nominatim is the service behind the popular OpenStreetMap that allows you to geocode for free. But you should comply with the usage policies in order to allow everyone to use it:\n",
    "'''\n",
    "#from geopy import RateLimiter\n",
    "locator = Nominatim(user_agent=\"http\")\n",
    "\n",
    "# 1 - convenient function to delay between geocoding calls\n",
    "geocode = RateLimiter(locator.geocode, min_delay_seconds=1)\n"
   ],
   "metadata": {
    "collapsed": false,
    "pycharm": {
     "name": "#%%\n",
     "is_executing": true
    }
   }
  },
  {
   "cell_type": "code",
   "execution_count": null,
   "outputs": [],
   "source": [
    "# 2- - create location column\n",
    "df_new['location'] = df_new['Neighbourhood'].apply(geocode)"
   ],
   "metadata": {
    "collapsed": false,
    "pycharm": {
     "name": "#%%\n",
     "is_executing": true
    }
   }
  },
  {
   "cell_type": "code",
   "execution_count": null,
   "outputs": [],
   "source": [
    "# 3 - create longitude, latitude and altitude from location column (returns tuple)\n",
    "df_new['point'] = df_new['location'].apply(lambda loc: tuple(loc.point) if loc else None)"
   ],
   "metadata": {
    "collapsed": false,
    "pycharm": {
     "name": "#%%\n",
     "is_executing": true
    }
   }
  },
  {
   "cell_type": "code",
   "execution_count": null,
   "outputs": [],
   "source": [
    "# 4 - split point column into latitude, longitude and altitude columns\n",
    "df_new[['lat', 'long', 'altitude']] = pd.DataFrame(df_new['point'].tolist(), index=df_new.index)\n",
    "df_new"
   ],
   "metadata": {
    "collapsed": false,
    "pycharm": {
     "name": "#%%\n",
     "is_executing": true
    }
   }
  },
  {
   "cell_type": "code",
   "execution_count": null,
   "outputs": [],
   "source": [
    "# Folium mapping\n",
    "import folium\n",
    "map_Vancouver = folium.Map(location=[latitude, longitude], zoom_start=11)\n",
    "\n",
    "# add markers to map\n",
    "for lat, lng, neighbourhood in zip(df_new['lat'], df_new['long'], df_new['Neighbourhood']):\n",
    "  label = '{}'.format(neighbourhood)\n",
    "  label = folium.Popup(label)\n",
    "  folium.CircleMarker(\n",
    "      [lat,lng],\n",
    "      radius=8,\n",
    "      color='blue',\n",
    "      popup=label,\n",
    "      fill_color='#3186cc',\n",
    "      fill_opacity=0.7,\n",
    "      fill=True\n",
    "\n",
    "  ).add_to(map_Vancouver)\n",
    "\n",
    "map_Vancouver"
   ],
   "metadata": {
    "collapsed": false,
    "pycharm": {
     "name": "#%%\n",
     "is_executing": true
    }
   }
  },
  {
   "cell_type": "markdown",
   "source": [
    "# preprocessing of Restaurant dataset\n",
    "## load restaurants of Vancouver dataset"
   ],
   "metadata": {
    "collapsed": false,
    "pycharm": {
     "name": "#%% md\n"
    }
   }
  },
  {
   "cell_type": "code",
   "execution_count": null,
   "outputs": [],
   "source": [
    "rest_path = pd.read_csv('dataset_Vancouver/Vancouver_restaurant_data.csv', encoding=\"latin\")\n",
    "df_rest = pd.DataFrame(rest_path)\n",
    "df_rest.head()"
   ],
   "metadata": {
    "collapsed": false,
    "pycharm": {
     "name": "#%%\n",
     "is_executing": true
    }
   }
  },
  {
   "cell_type": "code",
   "execution_count": null,
   "outputs": [],
   "source": [
    "# drop unuseful features\n",
    "df_rest.drop(['Rating.1', 'number-of-reviews','veg /Non- Veg','Rating','Total No of Ratings','Current Status','Opening time','Dine in availability','Takeaway type','Delivery availability','Description of the Restaurent','Restaurent Name','Cost'], axis=1, inplace=True)\n",
    "df_rest.head()\n"
   ],
   "metadata": {
    "collapsed": false,
    "pycharm": {
     "name": "#%%\n",
     "is_executing": true
    }
   }
  },
  {
   "cell_type": "code",
   "execution_count": null,
   "outputs": [],
   "source": [
    " # there are duplicates in the dataframe -> remove them\n",
    "df_rest[df_rest.duplicated(keep = False)]"
   ],
   "metadata": {
    "collapsed": false,
    "pycharm": {
     "name": "#%%\n",
     "is_executing": true
    }
   }
  },
  {
   "cell_type": "code",
   "execution_count": null,
   "outputs": [],
   "source": [
    "df_rest = df_rest.drop_duplicates() # removes all duplicates\n",
    "df_rest.reset_index(drop=True, inplace=True)\n",
    "df_rest[df_rest.duplicated(keep = False)]"
   ],
   "metadata": {
    "collapsed": false,
    "pycharm": {
     "name": "#%%\n",
     "is_executing": true
    }
   }
  },
  {
   "cell_type": "code",
   "execution_count": null,
   "outputs": [],
   "source": [
    "# merge place and landmark, since they have the same meaning\n",
    "\n",
    "# first: replace nan with ''\n",
    "values = {\"Landmark\": '', \"Location and Address\": ''}\n",
    "df_rest = df_rest.fillna(value = values)\n",
    "\n",
    "# now create a new column containing of the values Landmark and Location and Address\n",
    "df_rest['Place'] = df_rest['Landmark'] + df_rest['Location and Address']\n",
    "df_rest.drop(['Landmark'], axis=1, inplace=True)\n",
    "df_rest.drop(['Location and Address'], axis=1, inplace=True)\n",
    "\n",
    "df_rest.shape"
   ],
   "metadata": {
    "collapsed": false,
    "pycharm": {
     "name": "#%%\n",
     "is_executing": true
    }
   }
  },
  {
   "cell_type": "code",
   "execution_count": null,
   "outputs": [],
   "source": [
    "df_rest.value_counts(df_rest[\"Type of Cusine\"])"
   ],
   "metadata": {
    "collapsed": false,
    "pycharm": {
     "name": "#%%\n",
     "is_executing": true
    }
   }
  },
  {
   "cell_type": "code",
   "execution_count": null,
   "outputs": [],
   "source": [
    "# problem: Type of cuisine \"Restaurant\" doesn't have a meaning\n",
    "# -> remove it and replace it with a more meaningful category\n",
    "cnt = 0\n",
    "for element in range(len(df_rest[\"Type of Cusine\"])):\n",
    "    rest_name = \"\"\n",
    "    if df_rest.loc[element,\"Type of Cusine\"] == \"Restaurant\":\n",
    "        rest_name = df_rest.loc[element,\"Name of Restaurent \"]\n",
    "        if (re.search(\"Mexican\",rest_name)) or (re.search(\"Taco\",rest_name)) or re.search(\"Brazil\",rest_name):\n",
    "            df_rest.loc[element,\"Type of Cusine\"] = \"Latin\"\n",
    "        elif (re.search(\"French\",rest_name)) or re.search(\"Italian\",rest_name) or re.search(\"Steak\",rest_name) or re.search(\"Provence\",rest_name) or re.search(\"Mangez\",rest_name) or re.search(\"Mediterran\",rest_name) or re.search(\"Pizza\",rest_name):\n",
    "            df_rest.loc[element,\"Type of Cusine\"] = \"Western\"\n",
    "        elif (re.search(\"Asia\",rest_name)) or re.search(\"Thai\",rest_name):\n",
    "            df_rest.loc[element,\"Type of Cusine\"] = \"Asian\"\n",
    "        elif re.search(\"Ramen\",rest_name):\n",
    "            df_rest.loc[element,\"Type of Cusine\"] = \"Japanese\"\n",
    "        else:\n",
    "            df_rest = df_rest.drop(df_rest.index[[element-cnt]])\n",
    "            cnt += 1\n",
    "df_rest.reset_index(drop=True, inplace=True)\n",
    "print(df_rest.shape)"
   ],
   "metadata": {
    "collapsed": false,
    "pycharm": {
     "name": "#%%\n",
     "is_executing": true
    }
   }
  },
  {
   "cell_type": "code",
   "execution_count": null,
   "outputs": [],
   "source": [
    "df_rest.value_counts(df_rest[\"Type of Cusine\"])"
   ],
   "metadata": {
    "collapsed": false,
    "pycharm": {
     "name": "#%%\n",
     "is_executing": true
    }
   }
  },
  {
   "cell_type": "code",
   "execution_count": null,
   "outputs": [],
   "source": [
    "# put type of cuisines together\n",
    "cnt = 0\n",
    "for element in range(len(df_rest[\"Type of Cusine\"])):\n",
    "    type = df_rest.loc[element,\"Type of Cusine\"]\n",
    "    if (re.search(\"French\",type)) or re.search(\"Italian\",type) or re.search(\"Vegetarian\",type) or re.search(\"European\",type) or re.search(\"Steak\",type) or re.search(\"Mediterran\",type) or re.search(\"Pizza\",type)  or re.search(\"Hawaii\",type)  or re.search(\"Americ\",type) or re.search(\"Canad\",type)  or re.search(\"Salad\",type)  or re.search(\"Spanish\",type)  or re.search(\"Tapas\",type)   or re.search(\"Pacific Northwest\",type) or re.search(\"German\",type) or re.search(\"Irish\",type) or re.search(\"cois\",type) or re.search(\"Tuscan\",type) or re.search(\"Continental\",type) or re.search(\"Hamburger\",type) or re.search(\"Fast\",type) or re.search(\"Cantonese\",type) or re.search(\"Breakfast\",type) or re.search(\"Sandwich\",type):\n",
    "        df_rest.loc[element,\"Type of Cusine\"] = \"Western Restaurant\"\n",
    "\n",
    "    elif (re.search(\"Asia\",type)) or re.search(\"Cambodia\",type) or re.search(\"Pho\",type) or re.search(\"Fusion\",type) or re.search(\"Thai\",type) or re.search(\"Vietnamese\",type) or re.search(\"Lebanese\",type) or re.search(\"Afgha\",type) or re.search(\"Ethiop\",type) or re.search(\"Persia\",type):\n",
    "        df_rest.loc[element,\"Type of Cusine\"] = \"Asian Restaurant\"\n",
    "\n",
    "    elif re.search(\"Ramen\",type) or re.search(\"Sushi\",type) or re.search(\"Terri\",type) or re.search(\"Izakaya\",type) or re.search(\"Yakin\",type) or re.search(\"Japanese\",type) or re.search(\"Teppan\",type)  or re.search(\"Seafood\",type):\n",
    "        df_rest.loc[element,\"Type of Cusine\"] = \"Japanese Restaurant\"\n",
    "\n",
    "    elif re.search(\"Chines\",type):\n",
    "        df_rest.loc[element,\"Type of Cusine\"] = \"Chinese Restaurant\"\n",
    "\n",
    "    else:\n",
    "        df_rest = df_rest.drop(df_rest.index[[element-cnt]])\n",
    "        cnt += 1\n",
    "df_rest.reset_index(drop=True, inplace=True)"
   ],
   "metadata": {
    "collapsed": false,
    "pycharm": {
     "name": "#%%\n",
     "is_executing": true
    }
   }
  },
  {
   "cell_type": "code",
   "execution_count": null,
   "outputs": [],
   "source": [
    "df_rest.value_counts(df_rest[\"Type of Cusine\"])"
   ],
   "metadata": {
    "collapsed": false,
    "pycharm": {
     "name": "#%%\n",
     "is_executing": true
    }
   }
  },
  {
   "cell_type": "code",
   "execution_count": null,
   "outputs": [],
   "source": [
    "df_rest.shape"
   ],
   "metadata": {
    "collapsed": false,
    "pycharm": {
     "name": "#%%\n",
     "is_executing": true
    }
   }
  },
  {
   "cell_type": "code",
   "execution_count": null,
   "outputs": [],
   "source": [
    "df_rest.value_counts(df_rest[\"Place\"])"
   ],
   "metadata": {
    "collapsed": false,
    "pycharm": {
     "name": "#%%\n",
     "is_executing": true
    }
   }
  },
  {
   "cell_type": "code",
   "execution_count": null,
   "outputs": [],
   "source": [
    "for row in range(len(df_rest)):\n",
    "    rest = df_rest.loc[row,'Name of Restaurent ']\n",
    "    address = df_rest.loc[row,'Place']\n",
    "    if address == \"Vancouver, BC, Canada\":\n",
    "        df_rest.loc[row,'Place'] = rest + \",Vancouver, BC, Canada\"\n",
    "    elif address == \"Richmond, BC, Canada\":\n",
    "        df_rest.loc[row,'Place'] = rest + \",Richmond, BC, Canada\"\n",
    "    elif address == \"West Vancouver, BC, Canada\":\n",
    "        df_rest.loc[row,'Place'] = rest + \",West Vancouver, BC, Canada\""
   ],
   "metadata": {
    "collapsed": false,
    "pycharm": {
     "name": "#%%\n",
     "is_executing": true
    }
   }
  },
  {
   "cell_type": "code",
   "execution_count": null,
   "outputs": [],
   "source": [
    "# put addresses in a proper way so that we can feed it into geopy\n",
    "for row in range(len(df_rest)):\n",
    "    address = df_rest.loc[row,'Place']\n",
    "    address_lst = []\n",
    "    if address.find(\"ú In\") != -1:\n",
    "        address_lst = address.split(\"ú In\")\n",
    "        if address_lst[0] == \"Vancouver,BC,Canada\":\n",
    "            df_rest.loc[row,\"Place\"] = address_lst[1] + \", Vancouver,BC, CA\"\n",
    "        else:\n",
    "            df_rest.loc[row,\"Place\"] = address_lst[0] + \",Vancouver, BC, Canada\"\n",
    "    elif address.find(\"ú Near\") != -1:\n",
    "        address_lst = address.split(\"ú Near\")\n",
    "        df_rest.loc[row,\"Place\"] = address_lst[0] + \",Vancouver, BC, Canada\"\n",
    "    elif address.find(\"#\") != -1:\n",
    "        address_lst = address.split(\"#\")\n",
    "        df_rest.loc[row,\"Place\"] = address_lst[0] + \",Vancouver, BC, Canada\"\n",
    "    elif address.find(\"ancouver\") != -1:\n",
    "        df_rest.loc[row,\"Place\"] = \"Vancouver, BC, Canada\"\n",
    "    elif address.find(\"BC, Canada\") == -1 :\n",
    "        df_rest.loc[row,\"Place\"] = address + \",Vancouver, BC, Canada\"\n",
    "df_rest.reset_index(drop=True, inplace=True)\n"
   ],
   "metadata": {
    "collapsed": false,
    "pycharm": {
     "name": "#%%\n",
     "is_executing": true
    }
   }
  },
  {
   "cell_type": "code",
   "execution_count": null,
   "outputs": [],
   "source": [
    "for row in range(len(df_rest)):\n",
    "    address = df_rest.loc[row,'Place']\n",
    "    if address.find(\"#\") != -1:\n",
    "        address_a = re.sub(r\"# \\d+\", '', address)\n",
    "        df_rest.loc[row,\"Place\"] = address_a\n",
    "    elif address.find(\"Suite\") != -1:\n",
    "        address_a = re.sub(r\"Suite \\d+\", '', address)\n",
    "        df_rest.loc[row,\"Place\"] = address_a\n",
    "    elif address.find(\"St\") != -1:\n",
    "        address_a = re.sub(r\"g\\d+\", '', address)\n",
    "        df_rest.loc[row,\"Place\"] = address_a\n",
    "    elif address.find(\"Vancouver, BC, Canada ,Vancouver, BC, Canada\") != -1:\n",
    "        df_rest.loc[row,\"Place\"] = \"Vancouver, BC, Canada\""
   ],
   "metadata": {
    "collapsed": false,
    "pycharm": {
     "name": "#%%\n",
     "is_executing": true
    }
   }
  },
  {
   "cell_type": "code",
   "execution_count": null,
   "outputs": [],
   "source": [
    "for row in range(len(df_rest)):\n",
    "    rest = df_rest.loc[row,'Name of Restaurent ']\n",
    "    address = df_rest.loc[row,'Place']\n",
    "    if address == \"Vancouver, BC, Canada\":\n",
    "        df_rest.loc[row,'Place'] = rest + \",Vancouver, BC, Canada\""
   ],
   "metadata": {
    "collapsed": false,
    "pycharm": {
     "name": "#%%\n",
     "is_executing": true
    }
   }
  },
  {
   "cell_type": "code",
   "execution_count": null,
   "outputs": [],
   "source": [
    "df_rest.value_counts(df_rest[\"Place\"])"
   ],
   "metadata": {
    "collapsed": false,
    "pycharm": {
     "name": "#%%\n",
     "is_executing": true
    }
   }
  },
  {
   "cell_type": "code",
   "execution_count": null,
   "outputs": [],
   "source": [
    "# 1 - convenient function to delay between geocoding calls\n",
    "geocode = RateLimiter(locator.geocode, min_delay_seconds=1)"
   ],
   "metadata": {
    "collapsed": false,
    "pycharm": {
     "name": "#%%\n",
     "is_executing": true
    }
   }
  },
  {
   "cell_type": "code",
   "execution_count": null,
   "outputs": [],
   "source": [
    "# 2- - create location column\n",
    "df_rest['location'] = df_rest['Place'].apply(geocode)"
   ],
   "metadata": {
    "collapsed": false,
    "pycharm": {
     "name": "#%%\n",
     "is_executing": true
    }
   }
  },
  {
   "cell_type": "code",
   "execution_count": null,
   "outputs": [],
   "source": [
    "for row in range(len(df_rest['location'])):\n",
    "    element = df_rest.loc[row, 'location']\n",
    "    if element == None:\n",
    "        df_rest = df_rest.drop([row])\n",
    "df_rest.reset_index(drop=True, inplace=True)"
   ],
   "metadata": {
    "collapsed": false,
    "pycharm": {
     "name": "#%%\n",
     "is_executing": true
    }
   }
  },
  {
   "cell_type": "code",
   "execution_count": null,
   "outputs": [],
   "source": [
    "# 3 - create longitude, latitude and altitude from location column (returns tuple)\n",
    "df_rest['point'] = df_rest['location'].apply(lambda loc: tuple(loc.point) if loc else None)"
   ],
   "metadata": {
    "collapsed": false,
    "pycharm": {
     "name": "#%%\n",
     "is_executing": true
    }
   }
  },
  {
   "cell_type": "code",
   "execution_count": null,
   "outputs": [],
   "source": [
    "# 4 - split point column into latitude, longitude and altitude columns\n",
    "df_rest[['lat', 'long', 'altitude']] = pd.DataFrame(df_rest['point'].tolist(), index=df_rest.index)"
   ],
   "metadata": {
    "collapsed": false,
    "pycharm": {
     "name": "#%%\n",
     "is_executing": true
    }
   }
  },
  {
   "cell_type": "code",
   "execution_count": null,
   "outputs": [],
   "source": [
    "df_rest"
   ],
   "metadata": {
    "collapsed": false,
    "pycharm": {
     "name": "#%%\n",
     "is_executing": true
    }
   }
  },
  {
   "cell_type": "code",
   "execution_count": null,
   "outputs": [],
   "source": [
    "# map of the remaining restaurants of Vancouver\n",
    "import folium\n",
    "map_Vancouver_rest = folium.Map(location=[latitude, longitude], zoom_start=11)\n",
    "\n",
    "# add markers to map\n",
    "for lat, lng, neighbourhood in zip(df_rest['lat'], df_rest['long'], df_rest['Place']):\n",
    "  label = '{}'.format(neighbourhood)\n",
    "  label = folium.Popup(label)\n",
    "  folium.CircleMarker(\n",
    "      [lat,lng],\n",
    "      radius=8,\n",
    "      color='blue',\n",
    "      popup=label,\n",
    "      fill_color='#3186cc',\n",
    "      fill_opacity=0.7,\n",
    "      fill=True\n",
    "\n",
    "  ).add_to(map_Vancouver_rest)\n",
    "\n",
    "map_Vancouver_rest"
   ],
   "metadata": {
    "collapsed": false,
    "pycharm": {
     "name": "#%%\n",
     "is_executing": true
    }
   }
  },
  {
   "cell_type": "code",
   "execution_count": null,
   "outputs": [],
   "source": [
    "df_final_rest = df_rest.copy()\n",
    "df_final_rest.drop(['Place','location','point','altitude'], axis=1, inplace=True)\n",
    "df_final_rest.head()"
   ],
   "metadata": {
    "collapsed": false,
    "pycharm": {
     "name": "#%%\n",
     "is_executing": true
    }
   }
  },
  {
   "cell_type": "markdown",
   "source": [
    "## Haversine Distance\n",
    "now we need to merge the two datasets  according to their neigborhood\n",
    "1. task is to find out in what neighborhood each restaurant is placed"
   ],
   "metadata": {
    "collapsed": false,
    "pycharm": {
     "name": "#%% md\n"
    }
   }
  },
  {
   "cell_type": "code",
   "execution_count": null,
   "outputs": [],
   "source": [
    "# Haversine Distance is used to find the closest location\n",
    "\n",
    "from math import radians, cos, sin, asin, sqrt\n",
    "def dist(lat1, long1, lat2, long2):\n",
    "    # convert decimal degrees to radians\n",
    "    lat1, long1, lat2, long2 = map(radians, [lat1, long1, lat2, long2])\n",
    "    # haversine formula\n",
    "    dlon = long2 - long1\n",
    "    dlat = lat2 - lat1\n",
    "    a = sin(dlat/2)**2 + cos(lat1) * cos(lat2) * sin(dlon/2)**2\n",
    "    c = 2 * asin(sqrt(a))\n",
    "    # Radius of earth in kilometers is 6371\n",
    "    km = 6371* c\n",
    "    return km"
   ],
   "metadata": {
    "collapsed": false,
    "pycharm": {
     "name": "#%%\n",
     "is_executing": true
    }
   }
  },
  {
   "cell_type": "code",
   "execution_count": null,
   "outputs": [],
   "source": [
    "# find closest neighbourhood\n",
    "def find_nearest(lat, long):\n",
    "    distances = df_new.apply(\n",
    "        lambda row: dist(lat, long, row['lat'], row['long']),\n",
    "        axis=1)\n",
    "    return df_new.loc[distances.idxmin(), 'Neighbourhood']"
   ],
   "metadata": {
    "collapsed": false,
    "pycharm": {
     "name": "#%%\n",
     "is_executing": true
    }
   }
  },
  {
   "cell_type": "code",
   "execution_count": null,
   "outputs": [],
   "source": [
    "df_final_rest['Neighbourhood'] = df_final_rest.apply(\n",
    "    lambda row: find_nearest(row['lat'], row['long']),\n",
    "    axis=1)\n",
    "df_final_rest.head()"
   ],
   "metadata": {
    "collapsed": false,
    "pycharm": {
     "name": "#%%\n",
     "is_executing": true
    }
   }
  },
  {
   "cell_type": "code",
   "execution_count": null,
   "outputs": [],
   "source": [
    "df_final_rest.groupby('Neighbourhood').count()"
   ],
   "metadata": {
    "collapsed": false,
    "pycharm": {
     "name": "#%%\n",
     "is_executing": true
    }
   }
  },
  {
   "cell_type": "markdown",
   "source": [
    "## Analyze neighbourhood -> one hot encoding for type of cuisines"
   ],
   "metadata": {
    "collapsed": false,
    "pycharm": {
     "name": "#%% md\n"
    }
   }
  },
  {
   "cell_type": "code",
   "execution_count": null,
   "outputs": [],
   "source": [
    "# one hot encoding\n",
    "vancouver_onehot = pd.get_dummies(df_final_rest[['Type of Cusine']], prefix='', prefix_sep='')\n",
    "\n",
    "# add neighbourhood to column back to data frame\n",
    "vancouver_onehot['Neighbourhood'] = df_final_rest['Neighbourhood']\n",
    "\n",
    "# move neighbourhood column to the first column\n",
    "vancouver_onehot = vancouver_onehot[ ['Neighbourhood'] + [ col for col in vancouver_onehot.columns if col != 'Neighbourhood']]\n",
    "vancouver_onehot.head()"
   ],
   "metadata": {
    "collapsed": false,
    "pycharm": {
     "name": "#%%\n",
     "is_executing": true
    }
   }
  },
  {
   "cell_type": "markdown",
   "source": [
    "Parameter defined for analyze of the clustering"
   ],
   "metadata": {
    "collapsed": false,
    "pycharm": {
     "name": "#%% md\n"
    }
   }
  },
  {
   "cell_type": "code",
   "execution_count": null,
   "outputs": [],
   "source": [
    "# If you want to change the clustering for another parameter, just ajust this string\n",
    "str_cluster = \"Chinese\"\n",
    "percentage_people = 'Percentage of ' + str_cluster"
   ],
   "metadata": {
    "collapsed": false,
    "pycharm": {
     "name": "#%%\n",
     "is_executing": true
    }
   }
  },
  {
   "cell_type": "code",
   "execution_count": null,
   "outputs": [],
   "source": [
    "# create a dataset only with type of cuisine mentioned before\n",
    "vancouver_grouped = vancouver_onehot.groupby('Neighbourhood').mean().reset_index()\n",
    "vancouver_grouped = vancouver_grouped[['Neighbourhood', str_cluster +' Restaurant']]\n",
    "vancouver_grouped.set_index('Neighbourhood', inplace=True)\n",
    "vancouver_grouped.head()"
   ],
   "metadata": {
    "collapsed": false,
    "pycharm": {
     "name": "#%%\n",
     "is_executing": true
    }
   }
  },
  {
   "cell_type": "code",
   "execution_count": null,
   "outputs": [],
   "source": [
    "# create a dataset only consisting of the percentage of people used for the clustering\n",
    "df_x = df_new[['Neighbourhood','lat','long',percentage_people, 'weighted income average']]\n",
    "df_x.reset_index(inplace = True, drop = True)\n",
    "df_x.head()"
   ],
   "metadata": {
    "collapsed": false,
    "pycharm": {
     "name": "#%%\n",
     "is_executing": true
    }
   }
  },
  {
   "cell_type": "code",
   "execution_count": null,
   "outputs": [],
   "source": [
    "# finale merge of the two dataframes\n",
    "df_final = pd.merge(df_x, vancouver_grouped, on='Neighbourhood')\n",
    "df_final = df_final[[\"Neighbourhood\",\"lat\",\"long\",\"weighted income average\",percentage_people, str_cluster+\" Restaurant\"]]\n",
    "df_final.head()"
   ],
   "metadata": {
    "collapsed": false,
    "pycharm": {
     "name": "#%%\n",
     "is_executing": true
    }
   }
  },
  {
   "cell_type": "markdown",
   "source": [
    "## Visualization of the distribution of the restaurants\n",
    "Plotting a bar graph to showcase the frequency distribution of Chinese restaurants in each neighbourhood."
   ],
   "metadata": {
    "collapsed": false,
    "pycharm": {
     "name": "#%% md\n"
    }
   }
  },
  {
   "cell_type": "code",
   "execution_count": null,
   "outputs": [],
   "source": [
    "# sort by descending order\n",
    "vancouver_grouped.sort_values(by=str_cluster +' Restaurant', ascending=False, inplace=True)\n",
    "\n",
    "%matplotlib inline\n",
    "import matplotlib as mpl\n",
    "import matplotlib.pyplot as plt\n",
    "\n",
    "mpl.style.use('ggplot')\n",
    "vancouver_grouped.plot(kind='bar', figsize=(15,5))\n",
    "\n",
    "plt.title('Mean Frequency of ' + str_cluster + ' Restaurants in Each Neighbourhood in Vancouver')\n",
    "plt.xlabel('Neighbourhood')\n",
    "plt.ylabel('Mean frequency of '+ str_cluster+' Restaurants')\n",
    "\n",
    "plt.show()"
   ],
   "metadata": {
    "collapsed": false,
    "pycharm": {
     "name": "#%%\n",
     "is_executing": true
    }
   }
  },
  {
   "cell_type": "code",
   "execution_count": null,
   "outputs": [],
   "source": [
    "# Plotting a bar graph to illustrate the distribution of Chinese population group in each neighbourhood"
   ],
   "metadata": {
    "collapsed": false,
    "pycharm": {
     "name": "#%%\n",
     "is_executing": true
    }
   }
  },
  {
   "cell_type": "code",
   "execution_count": null,
   "outputs": [],
   "source": [
    "df_ethnic = df_new[['Neighbourhood', percentage_people]].set_index('Neighbourhood')\n",
    "\n",
    "# sort by descending order\n",
    "df_ethnic.sort_values(by=percentage_people, ascending=False, inplace=True)\n",
    "\n",
    "#plot bar graph\n",
    "df_ethnic.plot(kind='bar', figsize=(13,5))\n",
    "plt.title('Distribution of '+str_cluster+' in Each Neighbourhood in Vancouver')\n",
    "plt.xlabel('Neighbourhood')\n",
    "plt.ylabel(percentage_people)\n",
    "\n",
    "plt.show()"
   ],
   "metadata": {
    "collapsed": false,
    "pycharm": {
     "name": "#%%\n",
     "is_executing": true
    }
   }
  },
  {
   "cell_type": "code",
   "execution_count": null,
   "outputs": [],
   "source": [
    "df_income = df_new[['Neighbourhood', 'weighted income average']].set_index('Neighbourhood')\n",
    "\n",
    "# sort by descending order\n",
    "df_income.sort_values(by='weighted income average', ascending=False, inplace=True)\n",
    "\n",
    "#plot bar graph\n",
    "df_income.plot(kind='bar', figsize=(13,5))\n",
    "plt.title('Distribution of Median Household Income in Each Neighbourhood in Vancouver')\n",
    "plt.xlabel('Neighbourhood')\n",
    "plt.ylabel('Median Household Income')\n",
    "\n",
    "plt.show()"
   ],
   "metadata": {
    "collapsed": false,
    "pycharm": {
     "name": "#%%\n",
     "is_executing": true
    }
   }
  },
  {
   "cell_type": "markdown",
   "source": [
    "# Cluster Neighbourhoods"
   ],
   "metadata": {
    "collapsed": false,
    "pycharm": {
     "name": "#%% md\n"
    }
   }
  },
  {
   "cell_type": "code",
   "execution_count": null,
   "outputs": [],
   "source": [
    "from sklearn.preprocessing import StandardScaler\n",
    "import numpy as np\n",
    "X = df_final.values[:,3:]\n",
    "X = np.nan_to_num(X)\n",
    "Clus_dataSet = StandardScaler().fit_transform(X)\n",
    "Clus_dataSet"
   ],
   "metadata": {
    "collapsed": false,
    "pycharm": {
     "name": "#%%\n",
     "is_executing": true
    }
   }
  },
  {
   "cell_type": "code",
   "execution_count": null,
   "outputs": [],
   "source": [
    "df_normalized = pd.DataFrame(Clus_dataSet)\n",
    "df_normalized.rename(columns={0:'weighted income average', 1:'% '+str_cluster, 2:'No. of '+str_cluster+ ' Restaurants'}, inplace=True)\n",
    "df_normalized.head()"
   ],
   "metadata": {
    "collapsed": false,
    "pycharm": {
     "name": "#%%\n",
     "is_executing": true
    }
   }
  },
  {
   "cell_type": "code",
   "execution_count": null,
   "outputs": [],
   "source": [
    "from sklearn.cluster import KMeans\n",
    "\n",
    "error_cost=[]\n",
    "\n",
    "for i in range(3, 11):\n",
    "  KM = KMeans(n_clusters=i, max_iter=100)\n",
    "  try:\n",
    "    KM.fit(df_normalized)\n",
    "\n",
    "  except ValueError:\n",
    "    print('Error on line', i)\n",
    "\n",
    "  # calculate squared error for the clustered points\n",
    "  error_cost.append(KM.inertia_ / 100)\n",
    "\n",
    "# plot the K values against the squared error cost\n",
    "plt.figure(figsize=(13,7))\n",
    "plt.plot(range(3,11), error_cost, color='r', linewidth=3)\n",
    "plt.xlabel('Number of k clusters')\n",
    "plt.ylabel('Squared Error (Cost)')\n",
    "plt.grid(color='white', linestyle='-', linewidth=2)\n",
    "\n",
    "plt.show()"
   ],
   "metadata": {
    "collapsed": false,
    "pycharm": {
     "name": "#%%\n",
     "is_executing": true
    }
   }
  },
  {
   "cell_type": "code",
   "execution_count": null,
   "outputs": [],
   "source": [
    "from yellowbrick.cluster import KElbowVisualizer\n",
    "\n",
    "# Instantiate the clustering model and visualizer\n",
    "model = KMeans()\n",
    "visualizer = KElbowVisualizer(model, k=(3,11))\n",
    "\n",
    "visualizer.fit(X)\n",
    "visualizer"
   ],
   "metadata": {
    "collapsed": false,
    "pycharm": {
     "name": "#%%\n",
     "is_executing": true
    }
   }
  },
  {
   "cell_type": "code",
   "execution_count": null,
   "outputs": [],
   "source": [
    "# set number of clusters\n",
    "kclusters = 4\n",
    "\n",
    "# run k-means clustering\n",
    "kmeans = KMeans(n_clusters=kclusters, random_state=0).fit(df_normalized)\n",
    "\n",
    "# check cluster labels generated for each row in the dataframe\n",
    "kmeans.labels_[0:10]"
   ],
   "metadata": {
    "collapsed": false,
    "pycharm": {
     "name": "#%%\n",
     "is_executing": true
    }
   }
  },
  {
   "cell_type": "code",
   "execution_count": null,
   "outputs": [],
   "source": [
    "df_normalized.drop(['weighted income average','% '+str_cluster], axis=1, inplace=True)\n",
    "df_clustered = pd.merge(df_x, df_normalized, left_index=True, right_index=True)\n",
    "df_clustered.insert(0, 'Cluster Label', kmeans.labels_)"
   ],
   "metadata": {
    "collapsed": false,
    "pycharm": {
     "name": "#%%\n",
     "is_executing": true
    }
   }
  },
  {
   "cell_type": "code",
   "execution_count": null,
   "outputs": [],
   "source": [
    "df_clustered.head()"
   ],
   "metadata": {
    "collapsed": false,
    "pycharm": {
     "name": "#%%\n",
     "is_executing": true
    }
   }
  },
  {
   "cell_type": "code",
   "execution_count": null,
   "outputs": [],
   "source": [
    "# Matplotlib and associated plotting modules\n",
    "import matplotlib.cm as cm\n",
    "import matplotlib.colors as colors\n",
    "\n",
    "# create map\n",
    "map_clusters = folium.Map(location=[latitude,longitude], zoom_start=11)\n",
    "\n",
    "# set color schemes for the clusters\n",
    "x = np.arange(kclusters)\n",
    "ys = [i + x + (i*x)**2 for i in range(kclusters)]\n",
    "colors_array = cm.rainbow(np.linspace(0, 1, len(ys)))\n",
    "rainbow = [colors.rgb2hex(i) for i in colors_array]\n",
    "\n",
    "# add markers to the map\n",
    "markers_colors = []\n",
    "for lat, lon, poi, cluster in zip(df_clustered['lat'], df_clustered['long'], df_clustered['Neighbourhood'], df_clustered['Cluster Label']):\n",
    "    label = folium.Popup(str(poi) + ' Cluster ' + str(cluster), parse_html=True)\n",
    "    folium.CircleMarker(\n",
    "        [lat, lon],\n",
    "        radius=5,\n",
    "        popup=label,\n",
    "        color=rainbow[cluster-1],\n",
    "        fill=True,\n",
    "        fill_color=rainbow[cluster-1],\n",
    "        fill_opacity=0.7).add_to(map_clusters)\n",
    "\n",
    "map_clusters"
   ],
   "metadata": {
    "collapsed": false,
    "pycharm": {
     "name": "#%%\n",
     "is_executing": true
    }
   }
  },
  {
   "cell_type": "code",
   "execution_count": null,
   "outputs": [],
   "source": [
    "# examine clusters"
   ],
   "metadata": {
    "collapsed": false,
    "pycharm": {
     "name": "#%%\n",
     "is_executing": true
    }
   }
  },
  {
   "cell_type": "code",
   "execution_count": null,
   "outputs": [],
   "source": [
    "# Cluster 0\n",
    "df_clustered.loc[df_clustered['Cluster Label'] == 0]"
   ],
   "metadata": {
    "collapsed": false,
    "pycharm": {
     "name": "#%%\n",
     "is_executing": true
    }
   }
  },
  {
   "cell_type": "code",
   "execution_count": null,
   "outputs": [],
   "source": [
    "df_clustered.loc[df_clustered['Cluster Label'] == 1]"
   ],
   "metadata": {
    "collapsed": false,
    "pycharm": {
     "name": "#%%\n",
     "is_executing": true
    }
   }
  },
  {
   "cell_type": "code",
   "execution_count": null,
   "outputs": [],
   "source": [
    "# Cluster 2\n",
    "df_clustered.loc[df_clustered['Cluster Label'] == 2]"
   ],
   "metadata": {
    "collapsed": false,
    "pycharm": {
     "name": "#%%\n",
     "is_executing": true
    }
   }
  },
  {
   "cell_type": "code",
   "execution_count": null,
   "outputs": [],
   "source": [
    "# Cluster 3\n",
    "df_clustered.loc[df_clustered['Cluster Label'] == 3]"
   ],
   "metadata": {
    "collapsed": false,
    "pycharm": {
     "name": "#%%\n",
     "is_executing": true
    }
   }
  },
  {
   "cell_type": "code",
   "execution_count": null,
   "outputs": [],
   "source": [
    "# Cluster 4\n",
    "df_clustered.loc[df_clustered['Cluster Label'] == 4]"
   ],
   "metadata": {
    "collapsed": false,
    "pycharm": {
     "name": "#%%\n",
     "is_executing": true
    }
   }
  },
  {
   "cell_type": "code",
   "execution_count": null,
   "outputs": [],
   "source": [],
   "metadata": {
    "collapsed": false,
    "pycharm": {
     "name": "#%%\n",
     "is_executing": true
    }
   }
  }
 ],
 "metadata": {
  "kernelspec": {
   "display_name": "Python 3",
   "language": "python",
   "name": "python3"
  },
  "language_info": {
   "codemirror_mode": {
    "name": "ipython",
    "version": 2
   },
   "file_extension": ".py",
   "mimetype": "text/x-python",
   "name": "python",
   "nbconvert_exporter": "python",
   "pygments_lexer": "ipython2",
   "version": "2.7.6"
  }
 },
 "nbformat": 4,
 "nbformat_minor": 0
}